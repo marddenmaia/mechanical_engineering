{
 "cells": [
  {
   "cell_type": "markdown",
   "metadata": {},
   "source": [
    "Seleção de outputs: Simbolicos ou Valores reais"
   ]
  },
  {
   "cell_type": "code",
   "execution_count": 1,
   "metadata": {},
   "outputs": [
    {
     "name": "stdout",
     "output_type": "stream",
     "text": [
      "Serão exibidos VALORES REAIS\n"
     ]
    }
   ],
   "source": [
    "# Para outputs simbolicos, sim = 1\n",
    "# Para outputs reais, sim = 2\n",
    "\n",
    "sim = 2\n",
    "\n",
    "if sim == 1:\n",
    "    print(\"Serão exibidos VALORES SIMBOLICOS\")\n",
    "else:\n",
    "    if sim == 2:\n",
    "        print(\"Serão exibidos VALORES REAIS\")"
   ]
  },
  {
   "cell_type": "markdown",
   "metadata": {},
   "source": [
    "Importação de bibliotecas e criação de função"
   ]
  },
  {
   "cell_type": "code",
   "execution_count": 2,
   "metadata": {},
   "outputs": [],
   "source": [
    "import matplotlib.pyplot as plt\n",
    "import numpy as np\n",
    "import sympy as sp\n",
    "\n",
    "from IPython.display import display\n",
    "\n",
    "def e(x): # Função para potencia de 10\n",
    "    if x>= 0:\n",
    "        pot = np.power(10,x)\n",
    "    else:\n",
    "        pot = 1 / np.power(10, -x)\n",
    "    return pot"
   ]
  },
  {
   "cell_type": "markdown",
   "metadata": {},
   "source": [
    "INPUT: Parâmetros da bancada sem ADV"
   ]
  },
  {
   "cell_type": "code",
   "execution_count": 3,
   "metadata": {},
   "outputs": [],
   "source": [
    "if sim == 1: \n",
    "    b_regua, h_regua, E, L_regua, m_mesa, g  = sp.symbols('b_regua h_regua E L_regua m_mesa g')\n",
    "\n",
    "if sim == 2:\n",
    "    b_regua = 19 * e(-3) # Largura da régua (m)\n",
    "    h_regua = 0.5 * e(-3) # Espessura da regua (m)\n",
    "    E = 2.1 * 10**(11) # Módulo de elasticidade do aço da régua (Pa)\n",
    "    L_regua = 120 * e(-3) # Definida para uma frequencia de 3Hz a 10Hz\n",
    "    m_mesa = 1 # Massa suspensa (kg)\n",
    "    g = 9.81 # Aceleração da Gravidade (m/s^2)"
   ]
  },
  {
   "cell_type": "markdown",
   "metadata": {},
   "source": [
    "Momentos de Inercia e Rigidez da régua"
   ]
  },
  {
   "cell_type": "code",
   "execution_count": 4,
   "metadata": {},
   "outputs": [
    {
     "name": "stdout",
     "output_type": "stream",
     "text": [
      "Kx = 1154.51N/m | Ky = 1667118.06N/m | Kz = 66500000.00N/m\n"
     ]
    },
    {
     "data": {
      "text/plain": [
       "'Ix [m^4]'"
      ]
     },
     "metadata": {},
     "output_type": "display_data"
    },
    {
     "data": {
      "text/plain": [
       "1.979166666666667e-13"
      ]
     },
     "metadata": {},
     "output_type": "display_data"
    },
    {
     "data": {
      "text/plain": [
       "'Iy [m^4]'"
      ]
     },
     "metadata": {},
     "output_type": "display_data"
    },
    {
     "data": {
      "text/plain": [
       "2.857916666666667e-10"
      ]
     },
     "metadata": {},
     "output_type": "display_data"
    },
    {
     "data": {
      "text/plain": [
       "'Kx_eq [N/m]'"
      ]
     },
     "metadata": {},
     "output_type": "display_data"
    },
    {
     "data": {
      "text/plain": [
       "1154.5138888888894"
      ]
     },
     "metadata": {},
     "output_type": "display_data"
    },
    {
     "data": {
      "text/plain": [
       "'Ky_eq [N/m]'"
      ]
     },
     "metadata": {},
     "output_type": "display_data"
    },
    {
     "data": {
      "text/plain": [
       "1667118.055555556"
      ]
     },
     "metadata": {},
     "output_type": "display_data"
    },
    {
     "data": {
      "text/plain": [
       "'Kz_eq [N/m]'"
      ]
     },
     "metadata": {},
     "output_type": "display_data"
    },
    {
     "data": {
      "text/plain": [
       "66500000.0"
      ]
     },
     "metadata": {},
     "output_type": "display_data"
    }
   ],
   "source": [
    "Ix = (b_regua * np.power(h_regua,3) )/12 # Momento de inercia da regua (menor) (m^4)\n",
    "Iy = np.power(b_regua,3)* h_regua / 12\n",
    "\n",
    "Ky_eq = 4 * 12 * E * Iy / np.power(L_regua,3) # rigidez em Y\n",
    "Kz_eq = 4 * b_regua * h_regua * E / L_regua\n",
    "\n",
    "Kx_regua = 12 * E * Ix / np.power(L_regua,3) # Rigidez da régua (N/m)\n",
    "Kx_eq = 4* Kx_regua # Rigidez equivalente (N/m)\n",
    "\n",
    "if sim == 2:\n",
    "    print(f'Kx = {Kx_eq:.2f}N/m | Ky = {Ky_eq:.2f}N/m | Kz = {Kz_eq:.2f}N/m')\n",
    "\n",
    "display(\"Ix [m^4]\", Ix, \"Iy [m^4]\", Iy)\n",
    "\n",
    "display(\"Kx_eq [N/m]\", Kx_eq, \"Ky_eq [N/m]\", Ky_eq, \"Kz_eq [N/m]\", Kz_eq)"
   ]
  },
  {
   "cell_type": "markdown",
   "metadata": {},
   "source": [
    "Rigidez e frequência natural da mesa"
   ]
  },
  {
   "cell_type": "code",
   "execution_count": 5,
   "metadata": {},
   "outputs": [
    {
     "name": "stdout",
     "output_type": "stream",
     "text": [
      "regua_l = 12.00cm | keq = 16.63Nm/rad | J_mesa = 0.0144m^4 | wn = 32.75rad/s | wn_hz = 5.21Hz\n"
     ]
    },
    {
     "data": {
      "text/plain": [
       "'wn [rad/s] '"
      ]
     },
     "metadata": {},
     "output_type": "display_data"
    },
    {
     "data": {
      "text/latex": [
       "$\\displaystyle 32.7530744952117$"
      ],
      "text/plain": [
       "32.7530744952117"
      ]
     },
     "metadata": {},
     "output_type": "display_data"
    }
   ],
   "source": [
    "keq = 4* Kx_regua * np.power(L_regua,2) # Rigidez equivalente do sistema (N*m/rad)\n",
    "J_mesa = m_mesa * np.power(L_regua,2) # Momento de Inercia para massa pontual (kg*m^2)\n",
    "\n",
    "wn = sp.sqrt( (keq - m_mesa* g *L_regua) / J_mesa ) # Frequência natural (rad/s)\n",
    "wn_hz = wn / (2* sp.pi) # Frequencia natural do sistema (Hz)\n",
    "\n",
    "if sim == 2:\n",
    "    print(f'regua_l = {L_regua*100:.2f}cm | keq = {keq:.2f}Nm/rad | J_mesa = {J_mesa:.4f}m^4 | wn = {wn:.2f}rad/s | wn_hz = {wn_hz:.2f}Hz')\n",
    "\n",
    "display('wn [rad/s] ', wn)\n"
   ]
  },
  {
   "cell_type": "markdown",
   "metadata": {},
   "source": [
    "Gráfico de Rigidez Equivalente em função da Altura da régua"
   ]
  },
  {
   "cell_type": "code",
   "execution_count": 6,
   "metadata": {},
   "outputs": [
    {
     "data": {
      "image/png": "[encoded data removed]",
      "text/plain": [
       "<Figure size 640x480 with 1 Axes>"
      ]
     },
     "metadata": {},
     "output_type": "display_data"
    }
   ],
   "source": [
    "if sim == 2:\n",
    "    regua_l = np.arange(0.05,0.15,0.005) # Altura da regua (m) \n",
    "    keq_graf = 12 * E * Ix / np.power(regua_l,3)   # Rigidez equivalente (N/m)\n",
    "\n",
    "    plt.plot(regua_l, keq_graf)\n",
    "    plt.yscale('log')\n",
    "    plt.xlabel('Altura da régua (m)')\n",
    "    plt.ylabel('Rigidez Equivalente do Sistema (N/m)')\n",
    "    plt.show()"
   ]
  },
  {
   "cell_type": "markdown",
   "metadata": {},
   "source": [
    "INPUT: Parâmetros do ADV"
   ]
  },
  {
   "cell_type": "code",
   "execution_count": 7,
   "metadata": {},
   "outputs": [],
   "source": [
    "if sim == 1:\n",
    "    b_adv, h_adv, m_adv, L_adv, Lmax, Lmin = sp.symbols('b_adv h_adv m_adv L_adv Lmax Lmin')\n",
    "\n",
    "if sim == 2:\n",
    "    b_adv = 10 * e(-3) # Largura da régua do ADV (m)\n",
    "    h_adv = 0.1 * e(-3) # Espessura da régua do ADV (m)\n",
    "    m_adv = 20* e(-3) # Massa na ponta do ADV (kg)\n",
    "\n",
    "    L_adv = 49.4 * e(-3) # Comprimento da régua do ADV (m)\n",
    "    Lmax = 68 * e(-3) # Comprimento maximo da haste do ADV\n",
    "    Lmin = 45 * e(-3) # Comprimento minimo da haste do ADV"
   ]
  },
  {
   "cell_type": "markdown",
   "metadata": {},
   "source": [
    "Rigidez e frequência natural do ADV"
   ]
  },
  {
   "cell_type": "code",
   "execution_count": 8,
   "metadata": {},
   "outputs": [
    {
     "name": "stdout",
     "output_type": "stream",
     "text": [
      "L_adv = 4.94 cm | K_adv = 0.04 N*m/rad | wa_hz = 5.21 Hz\n"
     ]
    },
    {
     "data": {
      "text/plain": [
       "'Iadv [m^4]'"
      ]
     },
     "metadata": {},
     "output_type": "display_data"
    },
    {
     "data": {
      "text/plain": [
       "8.333333333333335e-16"
      ]
     },
     "metadata": {},
     "output_type": "display_data"
    },
    {
     "data": {
      "text/plain": [
       "'wa [rad/s]'"
      ]
     },
     "metadata": {},
     "output_type": "display_data"
    },
    {
     "data": {
      "text/latex": [
       "$\\displaystyle 32.7041822537385$"
      ],
      "text/plain": [
       "32.7041822537385"
      ]
     },
     "metadata": {},
     "output_type": "display_data"
    }
   ],
   "source": [
    "Iadv = (b_adv * np.power(h_adv,3) )/12 # Momento de Inercia da régua do ADV (m^4)\n",
    "Kx_adv = 12 * E * Iadv / np.power(L_adv,3) # Rigidez da régua do ADV (N/m)\n",
    "K_adv = Kx_adv * np.power(L_adv,2) # Rigidez da régua do ADV (N*m/rad)\n",
    "\n",
    "wa = sp.sqrt( (K_adv + m_adv*g*L_adv)/(m_adv* np.power(L_adv,2)) ) # Frequencia natural APENAS ADV (rad/s)\n",
    "wa_hz = wa / (2* sp.pi) # Frequencia natural do ADV (Hz)\n",
    "\n",
    "if sim == 2:\n",
    "    print(f'L_adv = {L_adv*100:.2f} cm | K_adv = {K_adv:.2f} N*m/rad | wa_hz = {wa_hz:.2f} Hz')\n",
    "\n",
    "display(\"Iadv [m^4]\", Iadv, \"wa [rad/s]\", wa)"
   ]
  },
  {
   "cell_type": "markdown",
   "metadata": {},
   "source": [
    "Faixa de operação do ADV"
   ]
  },
  {
   "cell_type": "code",
   "execution_count": 9,
   "metadata": {},
   "outputs": [
    {
     "name": "stdout",
     "output_type": "stream",
     "text": [
      "Faixa de operação do ADV: de 3.48Hz a 5.89Hz\n"
     ]
    },
    {
     "data": {
      "text/plain": [
       "'Frequencia Mínima [Hz]'"
      ]
     },
     "metadata": {},
     "output_type": "display_data"
    },
    {
     "data": {
      "text/latex": [
       "$\\displaystyle \\frac{10.9338943563977}{\\pi}$"
      ],
      "text/plain": [
       "10.9338943563977/pi"
      ]
     },
     "metadata": {},
     "output_type": "display_data"
    },
    {
     "data": {
      "text/plain": [
       "'Frequência Máxima [Hz]'"
      ]
     },
     "metadata": {},
     "output_type": "display_data"
    },
    {
     "data": {
      "text/latex": [
       "$\\displaystyle \\frac{18.5085343455769}{\\pi}$"
      ],
      "text/plain": [
       "18.5085343455769/pi"
      ]
     },
     "metadata": {},
     "output_type": "display_data"
    }
   ],
   "source": [
    "Kxmin_adv = 12 * E * Iadv / np.power(Lmax,3)\n",
    "wamin = sp.sqrt( (Kxmin_adv*np.power(Lmax,2) + m_adv*g*Lmax)/(m_adv* np.power(Lmax,2)) ) # Frequencia natural APENAS ADV (rad/s)\n",
    "wamin_hz = wamin / (2* sp.pi) # Frequencia natural do ADV (Hz)\n",
    "\n",
    "\n",
    "Kxmax_adv = 12 * E * Iadv / np.power(Lmin,3)\n",
    "wamax = sp.sqrt( (Kxmax_adv*np.power(Lmin,2) + m_adv*g*Lmin)/(m_adv* np.power(Lmin,2)) ) # Frequencia natural APENAS ADV (rad/s)\n",
    "wamax_hz = wamax / (2* sp.pi) # Frequencia natural do ADV (Hz)\n",
    "\n",
    "if sim == 2:\n",
    "    print(f'Faixa de operação do ADV: de {wamin_hz:.2f}Hz a {wamax_hz:.2f}Hz')\n",
    "\n",
    "display(\"Frequencia Mínima [Hz]\", wamin_hz, \"Frequência Máxima [Hz]\", wamax_hz)"
   ]
  },
  {
   "cell_type": "markdown",
   "metadata": {},
   "source": [
    "Gráfico de Frequência Natural em função do comprimento do ADV"
   ]
  },
  {
   "cell_type": "code",
   "execution_count": 10,
   "metadata": {},
   "outputs": [
    {
     "data": {
      "image/png": "[encoded data removed]",
      "text/plain": [
       "<Figure size 640x480 with 1 Axes>"
      ]
     },
     "metadata": {},
     "output_type": "display_data"
    }
   ],
   "source": [
    "if sim == 2:\n",
    "    adv_l = np.arange(1*e(-2),10*e(-2),1*e(-3)) # Comprimento do ADV (m)\n",
    "    adv_k = 12 * E * Iadv / np.power(adv_l,3) # Rigidez da haste do ADV (N/m)\n",
    "\n",
    "    wagraf = ( (adv_k*np.power(adv_l,2) + m_adv*g*adv_l)/(m_adv* (adv_l**2)) )**0.5 # Frequencia natural APENAS ADV (rad/s)\n",
    "    wagraf_hz = wagraf / (2* np.pi) # Frequencia natural do ADV (Hz)\n",
    "\n",
    "    plt.plot(adv_l*100, wagraf_hz, color=\"black\")\n",
    "    #plt.yscale('log')\n",
    "    plt.xlabel('Comprimento da haste do ADV (cm)')\n",
    "    plt.ylabel('Frequência natural do ADV (Hz)')\n",
    "\n",
    "    plt.scatter(100*Lmax,wamin_hz, label=f'wmin = {wamin_hz:.2f}Hz')\n",
    "    plt.scatter(100*L_adv,wa_hz, label=f'wa = {wa_hz:.2f}Hz')\n",
    "    plt.scatter(100*Lmin,wamax_hz, label=f'wmax = {wamax_hz:.2f}Hz')\n",
    "\n",
    "    #plt.ylim(0, 20)\n",
    "\n",
    "    plt.legend()\n",
    "    plt.show()"
   ]
  },
  {
   "cell_type": "markdown",
   "metadata": {},
   "source": [
    "Equacionamento da Bancada com ADV\n"
   ]
  },
  {
   "cell_type": "markdown",
   "metadata": {},
   "source": [
    "    Mesa: x(t)\n",
    "    ADV: x2(t)"
   ]
  },
  {
   "cell_type": "markdown",
   "metadata": {},
   "source": [
    "Declaração das variáveis da Mesa"
   ]
  },
  {
   "cell_type": "code",
   "execution_count": 11,
   "metadata": {},
   "outputs": [],
   "source": [
    "t = sp.symbols('t') # Variável Tempo\n",
    "x, y, theta, x2, F = sp.symbols('x y theta x2 F', cls=sp.Function) # Variam com o tempo\n",
    "\n",
    "x = x(t) # Horizontal Mesa\n",
    "y = y(t) # Vertical Mesa\n",
    "\n",
    "dx = sp.diff(x, t) # Velocidade X Mesa\n",
    "dy = sp.diff(y, t) # Velocidade Y Mesa\n",
    "\n",
    "F = F(t) # Força de excitação\n",
    "\n",
    "# CONDIÇÕES DE CONTORNO DA MESA\n",
    "y = 0 # Posição Vertical da Mesa na origem\n",
    "dy = 0 # Velocidade Vertical da Mesa nula\n",
    "\n",
    "#print(f\"{t} | {x} -> {dx} | {y} -> {dy} | {F}\")"
   ]
  },
  {
   "cell_type": "markdown",
   "metadata": {},
   "source": [
    "Declaração das variáveis do ADV"
   ]
  },
  {
   "cell_type": "code",
   "execution_count": 12,
   "metadata": {},
   "outputs": [
    {
     "name": "stdout",
     "output_type": "stream",
     "text": [
      "x2 = x2(t)  -> \n",
      "difx2 = Derivative(x2(t), t)  \n",
      "\n",
      "xa = x(t) - 0.0494*sin(20.2429149797571*x2(t)) -> \n",
      "dxa = -1.0*cos(20.2429149797571*x2(t))*Derivative(x2(t), t) + Derivative(x(t), t) \n",
      "\n",
      "ya = -0.0494*cos(20.2429149797571*x2(t)) -> \n",
      "dya = 1.0*sin(20.2429149797571*x2(t))*Derivative(x2(t), t) \n"
     ]
    }
   ],
   "source": [
    "x2 = x2(t)\n",
    "difx2 = sp.diff(x2, t)\n",
    "\n",
    "theta = x2 / L_adv # Ângulo do pêndulo do ADV\n",
    "dtheta = sp.diff(theta, t) # Velocidade THETA ADV\n",
    "\n",
    "xa = x - L_adv * sp.sin(theta) # Posição X da massa do ADV\n",
    "dxa = sp.diff(xa, t) # Velocidade X da massa do ADV\n",
    "\n",
    "ya = y - L_adv * (sp.cos(theta)) # Posição Y da massa do ADV\n",
    "dya = sp.diff(ya, t) # Velocidade Y da massa do ADV\n",
    "\n",
    "\n",
    "print(f\"x2 = {x2}  -> \\ndifx2 = {difx2}  \\n\\nxa = {xa} -> \\ndxa = {dxa} \\n\\nya = {ya} -> \\ndya = {dya} \")"
   ]
  },
  {
   "cell_type": "markdown",
   "metadata": {},
   "source": [
    "Formulação por Lagrange"
   ]
  },
  {
   "cell_type": "code",
   "execution_count": 13,
   "metadata": {},
   "outputs": [
    {
     "data": {
      "text/plain": [
       "'Energia Potencial (V) = '"
      ]
     },
     "metadata": {},
     "output_type": "display_data"
    },
    {
     "data": {
      "text/latex": [
       "$\\displaystyle 577.256944444445 x^{2}{\\left(t \\right)} + 8.70980540934327 x_{2}^{2}{\\left(t \\right)} - 0.00969228 \\cos{\\left(20.2429149797571 x_{2}{\\left(t \\right)} \\right)}$"
      ],
      "text/plain": [
       "577.256944444445*x(t)**2 + 8.70980540934327*x2(t)**2 - 0.00969228*cos(20.2429149797571*x2(t))"
      ]
     },
     "metadata": {},
     "output_type": "display_data"
    },
    {
     "data": {
      "text/plain": [
       "'Energia Cinética (T) = '"
      ]
     },
     "metadata": {},
     "output_type": "display_data"
    },
    {
     "data": {
      "text/latex": [
       "$\\displaystyle 0.01 \\left(- 1.0 \\cos{\\left(20.2429149797571 x_{2}{\\left(t \\right)} \\right)} \\frac{d}{d t} x_{2}{\\left(t \\right)} + \\frac{d}{d t} x{\\left(t \\right)}\\right)^{2} + 0.01 \\sin^{2}{\\left(20.2429149797571 x_{2}{\\left(t \\right)} \\right)} \\left(\\frac{d}{d t} x_{2}{\\left(t \\right)}\\right)^{2} + 0.5 \\left(\\frac{d}{d t} x{\\left(t \\right)}\\right)^{2}$"
      ],
      "text/plain": [
       "0.01*(-1.0*cos(20.2429149797571*x2(t))*Derivative(x2(t), t) + Derivative(x(t), t))**2 + 0.01*sin(20.2429149797571*x2(t))**2*Derivative(x2(t), t)**2 + 0.5*Derivative(x(t), t)**2"
      ]
     },
     "metadata": {},
     "output_type": "display_data"
    },
    {
     "data": {
      "text/plain": [
       "'Lagrangiana do Sistema 2GDL (L) = '"
      ]
     },
     "metadata": {},
     "output_type": "display_data"
    },
    {
     "data": {
      "text/latex": [
       "$\\displaystyle 0.01 \\left(- 1.0 \\cos{\\left(20.2429149797571 x_{2}{\\left(t \\right)} \\right)} \\frac{d}{d t} x_{2}{\\left(t \\right)} + \\frac{d}{d t} x{\\left(t \\right)}\\right)^{2} - 577.256944444445 x^{2}{\\left(t \\right)} - 8.70980540934327 x_{2}^{2}{\\left(t \\right)} + 0.01 \\sin^{2}{\\left(20.2429149797571 x_{2}{\\left(t \\right)} \\right)} \\left(\\frac{d}{d t} x_{2}{\\left(t \\right)}\\right)^{2} + 0.00969228 \\cos{\\left(20.2429149797571 x_{2}{\\left(t \\right)} \\right)} + 0.5 \\left(\\frac{d}{d t} x{\\left(t \\right)}\\right)^{2}$"
      ],
      "text/plain": [
       "0.01*(-1.0*cos(20.2429149797571*x2(t))*Derivative(x2(t), t) + Derivative(x(t), t))**2 - 577.256944444445*x(t)**2 - 8.70980540934327*x2(t)**2 + 0.01*sin(20.2429149797571*x2(t))**2*Derivative(x2(t), t)**2 + 0.00969228*cos(20.2429149797571*x2(t)) + 0.5*Derivative(x(t), t)**2"
      ]
     },
     "metadata": {},
     "output_type": "display_data"
    }
   ],
   "source": [
    "V = (0.5*keq/np.power(L_regua,2))*np.power(x,2) + 0.5*K_adv*np.power(theta,2) + m_adv*g*ya # Energia Potencial\n",
    "T = 0.5*m_mesa*np.power(dx,2) + 0.5*m_adv*(np.power(dxa,2) + np.power(dya,2)) # Energia Cinética\n",
    "L = T - V # Lagrangiana\n",
    "L = L.doit()\n",
    "\n",
    "display('Energia Potencial (V) = ', V)\n",
    "display('Energia Cinética (T) = ', T)\n",
    "display('Lagrangiana do Sistema 2GDL (L) = ', L)"
   ]
  },
  {
   "cell_type": "markdown",
   "metadata": {},
   "source": [
    "Equações do Movimento"
   ]
  },
  {
   "cell_type": "code",
   "execution_count": 14,
   "metadata": {},
   "outputs": [],
   "source": [
    "eqx = sp.Eq(sp.diff( sp.diff(L, dx), t) - sp.diff(L, x), F) # Equação do movimento da Bancada (x)\n",
    "\n",
    "eqx2 = sp.Eq(sp.diff( sp.diff(L, difx2), t) - sp.diff(L, x2), 0) # Equação do movimento do ADV (x2)"
   ]
  },
  {
   "cell_type": "code",
   "execution_count": 15,
   "metadata": {},
   "outputs": [
    {
     "data": {
      "text/plain": [
       "'Equação do movimento da Mesa (X):'"
      ]
     },
     "metadata": {},
     "output_type": "display_data"
    },
    {
     "data": {
      "text/latex": [
       "$\\displaystyle 1154.51388888889 x{\\left(t \\right)} + 0.404858299595142 \\sin{\\left(20.2429149797571 x_{2}{\\left(t \\right)} \\right)} \\left(\\frac{d}{d t} x_{2}{\\left(t \\right)}\\right)^{2} - 0.02 \\cos{\\left(20.2429149797571 x_{2}{\\left(t \\right)} \\right)} \\frac{d^{2}}{d t^{2}} x_{2}{\\left(t \\right)} + 1.02 \\frac{d^{2}}{d t^{2}} x{\\left(t \\right)} = F{\\left(t \\right)}$"
      ],
      "text/plain": [
       "Eq(1154.51388888889*x(t) + 0.404858299595142*sin(20.2429149797571*x2(t))*Derivative(x2(t), t)**2 - 0.02*cos(20.2429149797571*x2(t))*Derivative(x2(t), (t, 2)) + 1.02*Derivative(x(t), (t, 2)), F(t))"
      ]
     },
     "metadata": {},
     "output_type": "display_data"
    }
   ],
   "source": [
    "display('Equação do movimento da Mesa (X):', eqx)"
   ]
  },
  {
   "cell_type": "code",
   "execution_count": 16,
   "metadata": {},
   "outputs": [
    {
     "data": {
      "text/plain": [
       "'Equação do movimento do ADV (x2):'"
      ]
     },
     "metadata": {},
     "output_type": "display_data"
    },
    {
     "data": {
      "text/latex": [
       "$\\displaystyle - 0.02 \\cdot \\left(20.2429149797571 \\sin{\\left(20.2429149797571 x_{2}{\\left(t \\right)} \\right)} \\left(\\frac{d}{d t} x_{2}{\\left(t \\right)}\\right)^{2} - 1.0 \\cos{\\left(20.2429149797571 x_{2}{\\left(t \\right)} \\right)} \\frac{d^{2}}{d t^{2}} x_{2}{\\left(t \\right)} + \\frac{d^{2}}{d t^{2}} x{\\left(t \\right)}\\right) \\cos{\\left(20.2429149797571 x_{2}{\\left(t \\right)} \\right)} + 17.4196108186865 x_{2}{\\left(t \\right)} + 0.02 \\sin^{2}{\\left(20.2429149797571 x_{2}{\\left(t \\right)} \\right)} \\frac{d^{2}}{d t^{2}} x_{2}{\\left(t \\right)} + 0.404858299595142 \\sin{\\left(20.2429149797571 x_{2}{\\left(t \\right)} \\right)} \\cos{\\left(20.2429149797571 x_{2}{\\left(t \\right)} \\right)} \\left(\\frac{d}{d t} x_{2}{\\left(t \\right)}\\right)^{2} + 0.1962 \\sin{\\left(20.2429149797571 x_{2}{\\left(t \\right)} \\right)} = 0$"
      ],
      "text/plain": [
       "Eq(-0.02*(20.2429149797571*sin(20.2429149797571*x2(t))*Derivative(x2(t), t)**2 - 1.0*cos(20.2429149797571*x2(t))*Derivative(x2(t), (t, 2)) + Derivative(x(t), (t, 2)))*cos(20.2429149797571*x2(t)) + 17.4196108186865*x2(t) + 0.02*sin(20.2429149797571*x2(t))**2*Derivative(x2(t), (t, 2)) + 0.404858299595142*sin(20.2429149797571*x2(t))*cos(20.2429149797571*x2(t))*Derivative(x2(t), t)**2 + 0.1962*sin(20.2429149797571*x2(t)), 0)"
      ]
     },
     "metadata": {},
     "output_type": "display_data"
    }
   ],
   "source": [
    "display('Equação do movimento do ADV (x2):', eqx2)"
   ]
  },
  {
   "cell_type": "markdown",
   "metadata": {},
   "source": [
    "Realizando aproximações"
   ]
  },
  {
   "cell_type": "code",
   "execution_count": 17,
   "metadata": {},
   "outputs": [],
   "source": [
    "''' Para ângulos pequenos: \n",
    "        sin(theta) = theta  e \n",
    "        cos(theta) = 1\n",
    "'''\n",
    "\n",
    "eqx_sub = eqx.subs({sp.sin(theta): theta, sp.cos(theta): 1})\n",
    "eqx_sub = eqx_sub.doit() # Refazendo os cálculos após as aproximações...\n",
    "\n",
    "eqx2_sub = eqx2.subs({sp.sin(theta): theta, sp.cos(theta): 1})\n",
    "eqx2_sub = eqx2_sub.doit() # Refazendo os cálculos após as aproximações..."
   ]
  },
  {
   "cell_type": "markdown",
   "metadata": {},
   "source": [
    "Novas equações dos movimentos após aproximações"
   ]
  },
  {
   "cell_type": "code",
   "execution_count": 18,
   "metadata": {},
   "outputs": [
    {
     "data": {
      "text/plain": [
       "'EQUAÇÃO DO MOVIMENTO DA MESA'"
      ]
     },
     "metadata": {},
     "output_type": "display_data"
    },
    {
     "data": {
      "text/latex": [
       "$\\displaystyle 1154.51388888889 x{\\left(t \\right)} + 8.19551213755348 x_{2}{\\left(t \\right)} \\left(\\frac{d}{d t} x_{2}{\\left(t \\right)}\\right)^{2} + 1.02 \\frac{d^{2}}{d t^{2}} x{\\left(t \\right)} - 0.02 \\frac{d^{2}}{d t^{2}} x_{2}{\\left(t \\right)} = F{\\left(t \\right)}$"
      ],
      "text/plain": [
       "Eq(1154.51388888889*x(t) + 8.19551213755348*x2(t)*Derivative(x2(t), t)**2 + 1.02*Derivative(x(t), (t, 2)) - 0.02*Derivative(x2(t), (t, 2)), F(t))"
      ]
     },
     "metadata": {},
     "output_type": "display_data"
    },
    {
     "data": {
      "text/plain": [
       "'EQUAÇÃO DO MOVIMENTO DO ADV'"
      ]
     },
     "metadata": {},
     "output_type": "display_data"
    },
    {
     "data": {
      "text/latex": [
       "$\\displaystyle 8.19551213755348 x_{2}^{2}{\\left(t \\right)} \\frac{d^{2}}{d t^{2}} x_{2}{\\left(t \\right)} + 21.3912707377149 x_{2}{\\left(t \\right)} - 0.02 \\frac{d^{2}}{d t^{2}} x{\\left(t \\right)} + 0.02 \\frac{d^{2}}{d t^{2}} x_{2}{\\left(t \\right)} = 0$"
      ],
      "text/plain": [
       "Eq(8.19551213755348*x2(t)**2*Derivative(x2(t), (t, 2)) + 21.3912707377149*x2(t) - 0.02*Derivative(x(t), (t, 2)) + 0.02*Derivative(x2(t), (t, 2)), 0)"
      ]
     },
     "metadata": {},
     "output_type": "display_data"
    }
   ],
   "source": [
    "\n",
    "display('EQUAÇÃO DO MOVIMENTO DA MESA', eqx_sub)\n",
    "display('EQUAÇÃO DO MOVIMENTO DO ADV', eqx2_sub)"
   ]
  },
  {
   "cell_type": "markdown",
   "metadata": {},
   "source": [
    "Transformando de \"funções deriváveis e derivadas\" para variáveis simbólicas"
   ]
  },
  {
   "cell_type": "code",
   "execution_count": 19,
   "metadata": {},
   "outputs": [],
   "source": [
    "if sim ==2:\n",
    "    x_t, dx_t, d2x_t = sp.symbols('x_t dx_t d2x_t')\n",
    "    x2_t, difx2_t, dif2x2_t = sp.symbols('x2_t difx2_t dif2x2_t')"
   ]
  },
  {
   "cell_type": "markdown",
   "metadata": {},
   "source": [
    "Novas equações com variáveis simbólicas"
   ]
  },
  {
   "cell_type": "code",
   "execution_count": 20,
   "metadata": {},
   "outputs": [
    {
     "data": {
      "text/plain": [
       "'EQUAÇÃO DO MOVIMENTO DA MESA'"
      ]
     },
     "metadata": {},
     "output_type": "display_data"
    },
    {
     "data": {
      "text/latex": [
       "$\\displaystyle 1.02 d2x_{t} - 0.02 dif2x2_{t} + 8.19551213755348 difx_{2 t}^{2} x_{2 t} + 1154.51388888889 x_{t} = F{\\left(t \\right)}$"
      ],
      "text/plain": [
       "Eq(1.02*d2x_t - 0.02*dif2x2_t + 8.19551213755348*difx2_t**2*x2_t + 1154.51388888889*x_t, F(t))"
      ]
     },
     "metadata": {},
     "output_type": "display_data"
    },
    {
     "data": {
      "text/plain": [
       "'EQUAÇÃO DO MOVIMENTO DO ADV'"
      ]
     },
     "metadata": {},
     "output_type": "display_data"
    },
    {
     "data": {
      "text/latex": [
       "$\\displaystyle - 0.02 d2x_{t} + 8.19551213755348 dif2x2_{t} x_{2 t}^{2} + 0.02 dif2x2_{t} + 21.3912707377149 x_{2 t} = 0$"
      ],
      "text/plain": [
       "Eq(-0.02*d2x_t + 8.19551213755348*dif2x2_t*x2_t**2 + 0.02*dif2x2_t + 21.3912707377149*x2_t, 0)"
      ]
     },
     "metadata": {},
     "output_type": "display_data"
    }
   ],
   "source": [
    "if sim == 1:\n",
    "    eq_mesa = eqx_sub\n",
    "    eq_adv = eqx2_sub\n",
    "\n",
    "    display('EQUAÇÃO DO MOVIMENTO DA MESA', eq_mesa, 'EQUAÇÃO DO MOVIMENTO DO ADV', eq_adv)\n",
    "    \n",
    "if sim == 2:\n",
    "    eq_mesa = eqx_sub.subs({sp.diff(x,t,t): d2x_t, sp.diff(x,t): dx_t, x: x_t, x2: x2_t, sp.diff(x2,t): difx2_t, sp.diff(x2,t,t): dif2x2_t})\n",
    "    eq_adv = eqx2_sub.subs({sp.diff(x,t,t): d2x_t, sp.diff(x,t): dx_t, x: x_t, x2: x2_t, sp.diff(x2,t): difx2_t, sp.diff(x2,t,t): dif2x2_t})\n",
    "\n",
    "    display('EQUAÇÃO DO MOVIMENTO DA MESA', eq_mesa)\n",
    "    display('EQUAÇÃO DO MOVIMENTO DO ADV', eq_adv)"
   ]
  },
  {
   "cell_type": "markdown",
   "metadata": {},
   "source": [
    "Soluções de X e X2"
   ]
  },
  {
   "cell_type": "code",
   "execution_count": 21,
   "metadata": {},
   "outputs": [
    {
     "name": "stdout",
     "output_type": "stream",
     "text": [
      "x(t) = X*exp(I*t*w) | dx(t) = I*X*w*exp(I*t*w) | d2x(t) = -X*w**2*exp(I*t*w)\n",
      "x2(t) = X2*exp(I*t*w) | dx2(t) = I*X2*w*exp(I*t*w) | d2x2(t) = -X2*w**2*exp(I*t*w)\n",
      "F(t) = Fmax*exp(I*t*w)\n"
     ]
    }
   ],
   "source": [
    "xz, X, x2z, X2, t, w, Fx, Fmax = sp.symbols('x X x2 X2 t w Fx Fmax')\n",
    "\n",
    "xz = X * sp.exp(sp.sqrt(-1)*w*t)\n",
    "dxz = sp.diff(xz,t)\n",
    "d2xz = sp.diff(xz,t,t)\n",
    "print(f'x(t) = {xz} | dx(t) = {dxz} | d2x(t) = {d2xz}')\n",
    "\n",
    "x2z = X2 * sp.exp(sp.sqrt(-1)*w*t)\n",
    "dx2z = sp.diff(x2z,t)\n",
    "d2x2z = sp.diff(x2z,t,t)\n",
    "print(f'x2(t) = {x2z} | dx2(t) = {dx2z} | d2x2(t) = {d2x2z}')\n",
    "\n",
    "expo = sp.exp(sp.sqrt(-1)*w*t)\n",
    "Fx = Fmax*sp.exp(sp.sqrt(-1)*w*t)\n",
    "print(f'F(t) = {Fx}')"
   ]
  },
  {
   "cell_type": "markdown",
   "metadata": {},
   "source": [
    "Substituindo as soluções nas equações dos movimentos"
   ]
  },
  {
   "cell_type": "code",
   "execution_count": 22,
   "metadata": {},
   "outputs": [],
   "source": [
    "if sim == 1:\n",
    "    \n",
    "    d2x = sp.diff(x,t,t)\n",
    "    dx2 = sp.diff(x2,t)\n",
    "    d2x2 = sp.diff(x2,t,t)\n",
    "\n",
    "    eq_mesa = eq_mesa.replace(d2x, d2xz)\n",
    "    eq_mesa = eq_mesa.replace(dx, dxz)\n",
    "    eq_mesa = eq_mesa.replace(x, xz)\n",
    "    eq_mesa = eq_mesa.replace(d2x2, d2x2z)\n",
    "    eq_mesa = eq_mesa.replace(dx2, dx2z)\n",
    "    eq_mesa = eq_mesa.replace(x2, x2z)\n",
    "    eq_mesa = eq_mesa.replace(F, Fx)\n",
    "    eq_mesa = eq_mesa.subs(expo,1)\n",
    "    eq_mesa = eq_mesa.subs(sp.sqrt(-1), 0)\n",
    "    eq_mesa = eq_mesa.subs({X2**3: 0})\n",
    "    eq_mesa.doit()\n",
    "    display(\"Equação da mesa:\", eq_mesa)\n",
    "\n",
    "    eq_adv = eq_adv.replace(d2x, d2xz)\n",
    "    eq_adv = eq_adv.replace(dx, dxz)\n",
    "    eq_adv = eq_adv.replace(x, xz)\n",
    "    eq_adv = eq_adv.replace(d2x2, d2x2z)\n",
    "    eq_adv = eq_adv.replace(dx2, dx2z)\n",
    "    eq_adv = eq_adv.replace(x2, x2z)\n",
    "    eq_adv = eq_adv.replace(F, Fx)\n",
    "    eq_adv = eq_adv.subs(expo,1)\n",
    "    eq_adv = eq_adv.subs(sp.sqrt(-1), 0)\n",
    "    eq_adv = eq_adv.subs({X2**3: 0})\n",
    "    eq_adv.doit()\n",
    "    display(\"Equação do ADV:\", eq_adv)\n",
    "\n",
    "    eq_adv = eq_adv.doit()\n",
    "\n",
    "    "
   ]
  },
  {
   "cell_type": "code",
   "execution_count": 23,
   "metadata": {},
   "outputs": [
    {
     "data": {
      "text/plain": [
       "'EQUAÇÃO DO MOVIMENTO DA MESA'"
      ]
     },
     "metadata": {},
     "output_type": "display_data"
    },
    {
     "data": {
      "text/latex": [
       "$\\displaystyle - 1.02 X w^{2} + 1154.51388888889 X + 0.02 X_{2} w^{2} = Fmax$"
      ],
      "text/plain": [
       "Eq(-1.02*X*w**2 + 1154.51388888889*X + 0.02*X2*w**2, Fmax)"
      ]
     },
     "metadata": {},
     "output_type": "display_data"
    },
    {
     "data": {
      "text/plain": [
       "'EQUAÇÃO DO MOVIMENTO DO ADV'"
      ]
     },
     "metadata": {},
     "output_type": "display_data"
    },
    {
     "data": {
      "text/latex": [
       "$\\displaystyle 0.02 X w^{2} - 0.02 X_{2} w^{2} + 21.3912707377149 X_{2} = 0$"
      ],
      "text/plain": [
       "Eq(0.02*X*w**2 - 0.02*X2*w**2 + 21.3912707377149*X2, 0)"
      ]
     },
     "metadata": {},
     "output_type": "display_data"
    }
   ],
   "source": [
    "if sim == 2:\n",
    "\n",
    "    eq_mesa = eq_mesa.subs({x_t: xz, dx_t: dxz, d2x_t: d2xz, x2_t: x2z, difx2_t: dx2z, dif2x2_t: d2x2z})\n",
    "    eq_mesa = sp.Eq(eq_mesa.lhs,Fx)\n",
    "    eq_mesa = eq_mesa.subs({expo: 1})\n",
    "    eq_mesa = eq_mesa.subs({X2**3: 0})\n",
    "\n",
    "    eq_adv = eq_adv.subs({x_t: xz, dx_t: dxz, d2x_t: d2xz, x2_t: x2z, difx2_t: dx2z, dif2x2_t: d2x2z})\n",
    "    eq_adv = eq_adv.subs({expo:1})\n",
    "    eq_adv = eq_adv.subs({X2**3: 0})\n",
    "\n",
    "    display('EQUAÇÃO DO MOVIMENTO DA MESA', eq_mesa)\n",
    "    display('EQUAÇÃO DO MOVIMENTO DO ADV', eq_adv)"
   ]
  },
  {
   "cell_type": "markdown",
   "metadata": {},
   "source": [
    "Coletando coeficientes de X e X2 para construir o sistema na forma matricial"
   ]
  },
  {
   "cell_type": "code",
   "execution_count": 24,
   "metadata": {},
   "outputs": [
    {
     "data": {
      "text/plain": [
       "'Coeficientes de X [mesa, adv]'"
      ]
     },
     "metadata": {},
     "output_type": "display_data"
    },
    {
     "data": {
      "text/plain": [
       "[1154.51388888889 - 1.02*w**2, 0.02*w**2]"
      ]
     },
     "metadata": {},
     "output_type": "display_data"
    },
    {
     "data": {
      "text/plain": [
       "'Coeficientes de X2 [mesa, adv]'"
      ]
     },
     "metadata": {},
     "output_type": "display_data"
    },
    {
     "data": {
      "text/plain": [
       "[0.02*w**2, 21.3912707377149 - 0.02*w**2]"
      ]
     },
     "metadata": {},
     "output_type": "display_data"
    }
   ],
   "source": [
    "coefx_mesa = eq_mesa.lhs.coeff(X)\n",
    "coeft_mesa = eq_mesa.lhs.coeff(X2)\n",
    "\n",
    "if coeft_mesa == 0:\n",
    "    #Por algum motivo nao esta reconhecendo o coeficiente de X2 na mesa\n",
    "    #Mas atraves da visualização da equação, pode-se afirmar que\n",
    "    coeft_mesa = 0.5 * m_adv * (2* np.power(w,2))\n",
    "\n",
    "coefx_adv = eq_adv.lhs.coeff(X)\n",
    "coeft_adv = eq_adv.lhs.coeff(X2)\n",
    "\n",
    "if coefx_adv == 0:\n",
    "    #Por algum motivo nao esta reconhecendo o coeficiente de X na adv\n",
    "    #Mas atraves da visualização da equação, pode-se afirmar que\n",
    "    coefx_adv = 0.5 * m_adv * (2* np.power(w,2))\n",
    "\n",
    "coefx = [coefx_mesa, coefx_adv]\n",
    "coeft = [coeft_mesa, coeft_adv]\n",
    "\n",
    "display(\"Coeficientes de X [mesa, adv]\", coefx, \"Coeficientes de X2 [mesa, adv]\", coeft)"
   ]
  },
  {
   "cell_type": "markdown",
   "metadata": {},
   "source": [
    "Montando as matrizes do sistema"
   ]
  },
  {
   "cell_type": "code",
   "execution_count": 25,
   "metadata": {},
   "outputs": [
    {
     "data": {
      "text/plain": [
       "'Z ='"
      ]
     },
     "metadata": {},
     "output_type": "display_data"
    },
    {
     "data": {
      "text/latex": [
       "$\\displaystyle \\left[\\begin{matrix}1154.51388888889 - 1.02 w^{2} & 0.02 w^{2}\\\\0.02 w^{2} & 21.3912707377149 - 0.02 w^{2}\\end{matrix}\\right]$"
      ],
      "text/plain": [
       "Matrix([\n",
       "[1154.51388888889 - 1.02*w**2,                    0.02*w**2],\n",
       "[                   0.02*w**2, 21.3912707377149 - 0.02*w**2]])"
      ]
     },
     "metadata": {},
     "output_type": "display_data"
    },
    {
     "data": {
      "text/plain": [
       "'GDL:'"
      ]
     },
     "metadata": {},
     "output_type": "display_data"
    },
    {
     "data": {
      "text/latex": [
       "$\\displaystyle \\left[\\begin{matrix}X\\\\X_{2}\\end{matrix}\\right]$"
      ],
      "text/plain": [
       "Matrix([\n",
       "[ X],\n",
       "[X2]])"
      ]
     },
     "metadata": {},
     "output_type": "display_data"
    },
    {
     "data": {
      "text/plain": [
       "'F(t) ='"
      ]
     },
     "metadata": {},
     "output_type": "display_data"
    },
    {
     "data": {
      "text/latex": [
       "$\\displaystyle \\left[\\begin{matrix}Fmax\\\\0\\end{matrix}\\right]$"
      ],
      "text/plain": [
       "Matrix([\n",
       "[Fmax],\n",
       "[   0]])"
      ]
     },
     "metadata": {},
     "output_type": "display_data"
    }
   ],
   "source": [
    "Z = [\n",
    "    [coefx_mesa, coeft_mesa],\n",
    "    [coefx_adv, coeft_adv]\n",
    "     ]\n",
    "Z = sp.Matrix(Z, num_columns=100)\n",
    "display(\"Z =\", Z)\n",
    "\n",
    "GDL = [X],[X2]\n",
    "GDL = sp.Matrix(GDL)\n",
    "display(\"GDL:\", GDL)\n",
    "\n",
    "Ft = [\n",
    "    [Fmax],\n",
    "    [0]\n",
    "      ]\n",
    "Ft = sp.Matrix(Ft)\n",
    "display(\"F(t) =\", Ft)"
   ]
  },
  {
   "cell_type": "markdown",
   "metadata": {},
   "source": [
    "Determinante da matriz de impedância para encontrar os autovalores"
   ]
  },
  {
   "cell_type": "code",
   "execution_count": 26,
   "metadata": {},
   "outputs": [
    {
     "data": {
      "text/plain": [
       "'detZ = 0'"
      ]
     },
     "metadata": {},
     "output_type": "display_data"
    },
    {
     "data": {
      "text/latex": [
       "$\\displaystyle 0.02 w^{4} - 44.909373930247 w^{2} + 24696.5191676743 = 0$"
      ],
      "text/plain": [
       "Eq(0.02*w**4 - 44.909373930247*w**2 + 24696.5191676743, 0)"
      ]
     },
     "metadata": {},
     "output_type": "display_data"
    }
   ],
   "source": [
    "detZ = sp.det(Z) \n",
    "eqz = sp.Eq(detZ, 0)\n",
    "\n",
    "display('detZ = 0', eqz)"
   ]
  },
  {
   "cell_type": "markdown",
   "metadata": {},
   "source": [
    "Determinação das frequências dos modos de vibrar"
   ]
  },
  {
   "cell_type": "code",
   "execution_count": 27,
   "metadata": {},
   "outputs": [
    {
     "name": "stdout",
     "output_type": "stream",
     "text": [
      "Freq. Natural MESA isolada: wn = 5.21 Hz\n",
      "Freq. Natural ADV isolado: wa = 5.21 Hz\n",
      "\n",
      "Freq. Modo de Vibrar 1: w1 = 4.94 Hz\n",
      "Freq. Modo de Vibrar 2: w2 = 5.70 Hz\n"
     ]
    }
   ],
   "source": [
    "if sim == 2:\n",
    "    sol = sp.solve(detZ) # Autovalores (frequências dos modos de vibrar)\n",
    "\n",
    "    w1 = sol[2] # 1º modo de vibrar (rad/s)\n",
    "    w1_hz = w1 / (2* np.pi) # rad/s para Hz\n",
    "\n",
    "    w2 = sol[3] # 2º modo de vibrar (rad/s)\n",
    "    w2_hz = w2 / (2* np.pi) # rad/s para Hz\n",
    "\n",
    "    print(f'Freq. Natural MESA isolada: wn = {wn_hz:.2f} Hz')\n",
    "    print(f'Freq. Natural ADV isolado: wa = {wa_hz:.2f} Hz\\n')\n",
    "\n",
    "    print(f'Freq. Modo de Vibrar 1: w1 = {w1_hz:.2f} Hz')\n",
    "    print(f'Freq. Modo de Vibrar 2: w2 = {w2_hz:.2f} Hz')"
   ]
  },
  {
   "cell_type": "markdown",
   "metadata": {},
   "source": [
    "Vetores Modais"
   ]
  },
  {
   "cell_type": "code",
   "execution_count": 28,
   "metadata": {},
   "outputs": [
    {
     "name": "stdout",
     "output_type": "stream",
     "text": [
      "Vetor Modal 1: [[-0.111347986249562*A12], [A12]]\n",
      "Vetor Modal 2: [[0.166400664157675*A22], [A22]]\n"
     ]
    }
   ],
   "source": [
    "if sim == 2:\n",
    "    \n",
    "    # Modo 1\n",
    "    A11, A12 = sp.symbols('A11 A12')\n",
    "    vmod1 = Z[0] * A11 + Z[1]* A12\n",
    "    vmod1 = vmod1.subs({w: w1})\n",
    "    svmod1 = sp.solve(vmod1)\n",
    "\n",
    "    vmod1 = [\n",
    "        [svmod1[0][A11]],\n",
    "        [A12]\n",
    "    ]\n",
    "\n",
    "\n",
    "    # Modo 2\n",
    "    A21, A22 = sp.symbols('A21 A22')\n",
    "    vmod2 = Z[2] * A21 + Z[3]* A22\n",
    "    vmod2 = vmod2.subs({w: w2})\n",
    "    svmod2 = sp.solve(vmod2)\n",
    "\n",
    "    vmod2 = [\n",
    "        [svmod2[0][A21]],\n",
    "        [A22]\n",
    "    ]\n",
    "\n",
    "    print(f'Vetor Modal 1: {vmod1}')\n",
    "    print(f'Vetor Modal 2: {vmod2}')"
   ]
  },
  {
   "cell_type": "markdown",
   "metadata": {},
   "source": [
    "Matriz adjunta para encontrar os numeradores das respostas de X e X2"
   ]
  },
  {
   "cell_type": "code",
   "execution_count": 29,
   "metadata": {},
   "outputs": [
    {
     "data": {
      "text/plain": [
       "'Numerador (X) ='"
      ]
     },
     "metadata": {},
     "output_type": "display_data"
    },
    {
     "data": {
      "text/latex": [
       "$\\displaystyle Fmax \\left(21.3912707377149 - 0.02 w^{2}\\right)$"
      ],
      "text/plain": [
       "Fmax*(21.3912707377149 - 0.02*w**2)"
      ]
     },
     "metadata": {},
     "output_type": "display_data"
    },
    {
     "data": {
      "text/plain": [
       "'Numerador (X2) = '"
      ]
     },
     "metadata": {},
     "output_type": "display_data"
    },
    {
     "data": {
      "text/latex": [
       "$\\displaystyle - 0.02 Fmax w^{2}$"
      ],
      "text/plain": [
       "-0.02*Fmax*w**2"
      ]
     },
     "metadata": {},
     "output_type": "display_data"
    },
    {
     "data": {
      "text/plain": [
       "'Denominadores ='"
      ]
     },
     "metadata": {},
     "output_type": "display_data"
    },
    {
     "data": {
      "text/latex": [
       "$\\displaystyle 0.02 w^{4} - 44.909373930247 w^{2} + 24696.5191676743$"
      ],
      "text/plain": [
       "0.02*w**4 - 44.909373930247*w**2 + 24696.5191676743"
      ]
     },
     "metadata": {},
     "output_type": "display_data"
    }
   ],
   "source": [
    "# Matriz adjunta de Z\n",
    "adjZ = [\n",
    "    [Z[3], -Z[1]],\n",
    "    [-Z[2], Z[0]]\n",
    "]\n",
    "\n",
    "# Numeradores das respostas de X e X2\n",
    "resp_num = [\n",
    "    adjZ[0][0]*Ft[0] + adjZ[0][1]*Ft[1],\n",
    "    adjZ[1][0]*Ft[0] + adjZ[1][1]*Ft[1]\n",
    "]\n",
    "\n",
    "# Denominadores das respostas de X e X2\n",
    "resp_den = detZ\n",
    "\n",
    "\n",
    "display('Numerador (X) =', resp_num[0], \"Numerador (X2) = \", resp_num[1])\n",
    "display('Denominadores =', resp_den)\n"
   ]
  },
  {
   "cell_type": "markdown",
   "metadata": {},
   "source": [
    "Força de excitação"
   ]
  },
  {
   "cell_type": "code",
   "execution_count": 30,
   "metadata": {},
   "outputs": [
    {
     "data": {
      "text/latex": [
       "$\\displaystyle Fmax = 0.534781768442872$"
      ],
      "text/plain": [
       "Eq(Fmax, 0.534781768442872)"
      ]
     },
     "metadata": {},
     "output_type": "display_data"
    }
   ],
   "source": [
    "if sim == 1: \n",
    "    m_e, r_e, w_e = sp.symbols('m_e r_e w_e')\n",
    "\n",
    "if sim == 2:\n",
    "    m_e = 50 * e(-3) #massa excentrica (kg)\n",
    "    r_e = 10 * e(-3) #raio excentrico (m)\n",
    "    w_e = wa #frequencia de excitação\n",
    "\n",
    "F0 = m_e * np.power(w_e,2) * r_e\n",
    "\n",
    "F0min = m_e * np.power(wamin,2) * r_e\n",
    "F0max = m_e * np.power(wamax,2) * r_e\n",
    "\n",
    "display(sp.Eq(Fmax, F0))"
   ]
  },
  {
   "cell_type": "markdown",
   "metadata": {},
   "source": [
    "Respostas de X e X2"
   ]
  },
  {
   "cell_type": "code",
   "execution_count": 31,
   "metadata": {},
   "outputs": [
    {
     "data": {
      "text/plain": [
       "'X/F ='"
      ]
     },
     "metadata": {},
     "output_type": "display_data"
    },
    {
     "data": {
      "text/latex": [
       "$\\displaystyle \\frac{21.3912707377149 - 0.02 w^{2}}{0.02 w^{4} - 44.909373930247 w^{2} + 24696.5191676743}$"
      ],
      "text/plain": [
       "(21.3912707377149 - 0.02*w**2)/(0.02*w**4 - 44.909373930247*w**2 + 24696.5191676743)"
      ]
     },
     "metadata": {},
     "output_type": "display_data"
    },
    {
     "data": {
      "text/plain": [
       "'Amplitude máxima de X [mm] '"
      ]
     },
     "metadata": {},
     "output_type": "display_data"
    },
    {
     "data": {
      "text/latex": [
       "$\\displaystyle 4.15206011176414 \\cdot 10^{-15}$"
      ],
      "text/plain": [
       "4.15206011176414e-15"
      ]
     },
     "metadata": {},
     "output_type": "display_data"
    },
    {
     "data": {
      "text/plain": [
       "'X2/F ='"
      ]
     },
     "metadata": {},
     "output_type": "display_data"
    },
    {
     "data": {
      "text/latex": [
       "$\\displaystyle - \\frac{0.02 w^{2}}{0.02 w^{4} - 44.909373930247 w^{2} + 24696.5191676743}$"
      ],
      "text/plain": [
       "-0.02*w**2/(0.02*w**4 - 44.909373930247*w**2 + 24696.5191676743)"
      ]
     },
     "metadata": {},
     "output_type": "display_data"
    },
    {
     "data": {
      "text/plain": [
       "'Amplitude máxima de X2 [mm] '"
      ]
     },
     "metadata": {},
     "output_type": "display_data"
    },
    {
     "data": {
      "text/latex": [
       "$\\displaystyle 25.0000000000002$"
      ],
      "text/plain": [
       "25.0000000000002"
      ]
     },
     "metadata": {},
     "output_type": "display_data"
    }
   ],
   "source": [
    "# Juntar na equação os numeradores e os denominadores\n",
    "resp_X = resp_num[0]/resp_den\n",
    "resp_X2 = resp_num[1]/resp_den\n",
    "\n",
    "X_F = resp_X/Fmax # X/F\n",
    "display('X/F =', X_F)\n",
    "\n",
    "Xmax = abs( X_F.replace(w,wa) * F0 )\n",
    "display(\"Amplitude máxima de X [mm] \", Xmax*1000)\n",
    "\n",
    "X2_F = resp_X2/Fmax # X2/F\n",
    "display('X2/F =', X2_F)\n",
    "\n",
    "X2max = abs( X2_F.replace(w,wa) * F0  )\n",
    "display(\"Amplitude máxima de X2 [mm] \", X2max*1000)\n"
   ]
  },
  {
   "cell_type": "markdown",
   "metadata": {},
   "source": [
    "Gráfico adimensional da resposta de X (com ADV e sem ADV)"
   ]
  },
  {
   "cell_type": "code",
   "execution_count": 32,
   "metadata": {},
   "outputs": [
    {
     "data": {
      "image/png": "[encoded data removed]",
      "text/plain": [
       "<Figure size 640x480 with 1 Axes>"
      ]
     },
     "metadata": {},
     "output_type": "display_data"
    }
   ],
   "source": [
    "if sim == 2:\n",
    "\n",
    "    wgraf = np.arange(0, 60, 0.001) \n",
    "    wgraf_hz = wgraf/(2*np.pi)\n",
    "\n",
    "    r = wgraf_hz / wn_hz\n",
    "    ra = wgraf_hz / wa_hz\n",
    "\n",
    "    X_F = sp.lambdify(w, X_F, 'numpy')\n",
    "    X_F = np.abs(X_F(wgraf))\n",
    "    KX_F = X_F * Kx_regua*4 # Resposta adimensional\n",
    "\n",
    "    # Usa-se 4*Kx_regua pois X se trata do deslocamento horizontal, que é resistido pela rigidez a flexao da regua\n",
    "\n",
    "    # Resposta da mesa vibrando SEM ADV\n",
    "    KX_S_ADV = abs( ( Kx_regua*4 * np.power(L_regua,2) ) / ( (1- np.power((wgraf/wn),2) ) * (keq - m_mesa*g*L_regua) ) )\n",
    "\n",
    "\n",
    "    plt.semilogy(ra, KX_S_ADV, label=\"SEM ADV\", color=\"red\")\n",
    "    plt.semilogy(ra, KX_F, label=\"COM ADV\", color='blue')\n",
    "\n",
    "    plt.title('Amplitude de vibração do sistema primário')\n",
    "\n",
    "    plt.xlabel('ra = w/wa')\n",
    "    plt.xlim(0, 2)\n",
    "    plt.ylim(e(-4), e(4))\n",
    "\n",
    "    plt.scatter(w2_hz,0, label=f'L_adv = {1000*L_adv:.1f}mm')\n",
    "    label_wn = f'wn = {wn_hz:.2f} Hz'\n",
    "    plt.scatter(wn_hz,0, label=label_wn)\n",
    "    plt.scatter(w1_hz,0, label=f'w1 = {w1_hz:.2f}Hz')\n",
    "    plt.scatter(w2_hz,0, label=f'w2 = {w2_hz:.2f}Hz')\n",
    "\n",
    "\n",
    "    plt.legend()\n",
    "    plt.show()"
   ]
  },
  {
   "cell_type": "markdown",
   "metadata": {},
   "source": [
    "Avaliando as amplitudes de X2"
   ]
  },
  {
   "cell_type": "code",
   "execution_count": 33,
   "metadata": {},
   "outputs": [
    {
     "data": {
      "image/png": "[encoded data removed]",
      "text/plain": [
       "<Figure size 640x480 with 1 Axes>"
      ]
     },
     "metadata": {},
     "output_type": "display_data"
    }
   ],
   "source": [
    "if sim == 2:\n",
    "    X2_F = sp.lambdify(w, X2_F, 'numpy')\n",
    "    X2_F = np.abs(X2_F(wgraf))\n",
    "    KX2_F = X2_F * Kx_adv # Resposta adimensional\n",
    "\n",
    "    plt.plot(ra, KX2_F, label=\"(Kx_adv * X2) / F \", color=\"red\")\n",
    "    #plt.yscale('log')\n",
    "\n",
    "    plt.title('Amplitude de vibração do ADV')\n",
    "\n",
    "    plt.xlabel('ra = w/wa')\n",
    "    plt.xlim(0.8, 1.2)\n",
    "    plt.ylim(0, 2)\n",
    "\n",
    "    plt.legend()\n",
    "    plt.show()"
   ]
  },
  {
   "cell_type": "markdown",
   "metadata": {},
   "source": [
    "Gráfico das amplitudes de X e X2"
   ]
  },
  {
   "cell_type": "code",
   "execution_count": 34,
   "metadata": {},
   "outputs": [
    {
     "data": {
      "image/png": "[encoded data removed]",
      "text/plain": [
       "<Figure size 640x480 with 1 Axes>"
      ]
     },
     "metadata": {},
     "output_type": "display_data"
    },
    {
     "name": "stdout",
     "output_type": "stream",
     "text": [
      "Amplitude (X) em 3.48 Hz: 0.36mm\n",
      "Amplitude (X) em 5.21 Hz: 0.00mm\n",
      "Amplitude (X) em 5.89 Hz: 6.00mm\n"
     ]
    }
   ],
   "source": [
    "if sim == 2: \n",
    "    for i,rx in enumerate(ra):\n",
    "        if rx <= 1:\n",
    "            indice = i\n",
    "        else:\n",
    "            break\n",
    "\n",
    "    yX = KX_F[indice]\n",
    "    Ax = F0 * yX/ (Kx_regua*4) #amplitude de X (m)\n",
    "\n",
    "    yX2 = KX2_F[indice]\n",
    "    Ax2 = F0 * yX2/ (Kx_adv) #amplitude de X2 (m)\n",
    "\n",
    "    plt.title('Amplitudes de vibração')\n",
    "\n",
    "    plt.plot(ra, KX_F, label=\"MESA COM ADV\", color='blue')\n",
    "    plt.plot(ra, KX2_F, label=\"ADV\", color=\"green\")\n",
    "\n",
    "    plt.xlabel('ra = w/wa')\n",
    "    #plt.xlim(0, 1.4)\n",
    "    plt.ylim(e(-4), e(4))\n",
    "\n",
    "    plt.scatter(1,yX2, label=f'L_adv = {1000*L_adv:.1f}mm')\n",
    "    plt.scatter(1,yX2, label=f'wa = {wa_hz:.2f}Hz')\n",
    "    plt.scatter(1,Xmax, label=f'Mesa = {1000*Xmax:.2f}mm')\n",
    "    plt.scatter(1,X2max, label=f'ADV = {1000*X2max:.2f}mm')\n",
    "\n",
    "    plt.yscale('log')\n",
    "    plt.legend()\n",
    "    plt.show()\n",
    "\n",
    "    for ii,rxx in enumerate(ra):\n",
    "        if rxx <= 3.48/5.21: # quando L_adv = Lmax\n",
    "            imin = ii\n",
    "        if rxx <= 1:\n",
    "            i1 = ii\n",
    "        if rxx <= 5.89/5.21:\n",
    "            imax = ii\n",
    "        else:\n",
    "            break\n",
    "\n",
    "    print(f'Amplitude (X) em {wamin_hz:.2f} Hz: {1000*F0min * KX_F[imin] / (4*Kx_regua):.2f}mm')\n",
    "    print(f'Amplitude (X) em {wa_hz:.2f} Hz: {1000*F0 * KX_F[i1] / (4*Kx_regua):.2f}mm')\n",
    "    print(f'Amplitude (X) em {wamax_hz:.2f} Hz: {1000*F0max * KX_F[imax] / (4*Kx_regua):.2f}mm')"
   ]
  },
  {
   "cell_type": "code",
   "execution_count": 35,
   "metadata": {},
   "outputs": [
    {
     "data": {
      "image/png": "[encoded data removed]",
      "text/plain": [
       "<Figure size 640x480 with 1 Axes>"
      ]
     },
     "metadata": {},
     "output_type": "display_data"
    }
   ],
   "source": [
    "if sim == 2:\n",
    "    plt.title('Amplitudes de vibração')\n",
    "\n",
    "    plt.plot(ra, KX_F, label=\"MESA COM ADV\", color='blue')\n",
    "    plt.plot(ra, KX2_F, label=\"ADV\", color=\"green\")\n",
    "\n",
    "    plt.xlabel('ra = w/wa')\n",
    "    plt.xlim(0.8, 1.2)\n",
    "    plt.ylim(0, 1)\n",
    "\n",
    "    plt.scatter(1,yX, label=f'Mesa = {1000*Ax:.2f}mm')\n",
    "    plt.scatter(1,yX2, label=f'ADV = {1000*Ax2:.2f}mm')\n",
    "\n",
    "    #plt.yscale('log')\n",
    "    plt.legend(loc=\"lower left\")\n",
    "    plt.show()"
   ]
  }
 ],
 "metadata": {
  "kernelspec": {
   "display_name": "Python 3",
   "language": "python",
   "name": "python3"
  },
  "language_info": {
   "codemirror_mode": {
    "name": "ipython",
    "version": 3
   },
   "file_extension": ".py",
   "mimetype": "text/x-python",
   "name": "python",
   "nbconvert_exporter": "python",
   "pygments_lexer": "ipython3",
   "version": "3.11.6"
  },
  "orig_nbformat": 4
 },
 "nbformat": 4,
 "nbformat_minor": 2
}
